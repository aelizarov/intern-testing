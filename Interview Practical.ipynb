{
 "cells": [
  {
   "cell_type": "code",
   "execution_count": null,
   "metadata": {},
   "outputs": [],
   "source": [
    "##Fix this code. Var should equal Hello World. Code should print \"Success\". \n",
    "var = \"H43erfl343lfdsofd Wvdsovfdrfdslffd\"\n",
    "\n",
    "##put your code in here. \n",
    "\n",
    "\n",
    "##no editing deyond this point.\n",
    "\n",
    "if var == \"Hello World\":\n",
    "    print(\"Success\")\n",
    "\n",
    "else:\n",
    "    print(\"Fail\")"
   ]
  },
  {
   "cell_type": "code",
   "execution_count": null,
   "metadata": {},
   "outputs": [],
   "source": [
    "##Fix this code. Z should be in order as red, blue, yellow, and green.\n",
    "x = [0,1,2,3]\n",
    "z = []\n",
    "color = [\"red\",\"blue\",\"yellow\",\"green\"]\n",
    "for i in color:\n",
    "    for k in x:\n",
    "        z[k] = i\n",
    "z"
   ]
  },
  {
   "cell_type": "code",
   "execution_count": null,
   "metadata": {},
   "outputs": [],
   "source": [
    "##Fix this code. There are three areas with errors, two are marked, one is not. It should output the 99 bottles song.\n",
    "def bottle_or_bottles(num_bottles):\n",
    "    ##fill in here\n",
    "        return \"bottles\"\n",
    "    return \"bottle\"\n",
    "\n",
    "def song1(num_bottles=99):\n",
    "    verse1 = \"{0} {1} of beer on the wall, {0} {1} of beer.\"\n",
    "    verse2 = \"Take one down and pass it around, {} {} of beer on the wall\\n\"\n",
    "\n",
    "    for i in ##fill in here:\n",
    "        print(verse1.format(i, bottle_or_bottles(i)))\n",
    "        num_bottles_next = i - 1\n",
    "        if num_bottles_next == 0:\n",
    "            num_bottles_next = \"no more\"\n",
    "        print \"verse2.format(num_bottles_next, bottle_or_bottles(num_bottles_next))\"\n",
    "\n",
    "    print(\"No more bottles of beer on the wall, no more bottles of beer.\\n\" \\\n",
    "           \"Go to the store and buy some more, {} bottles of beer on \" \\\n",
    "            \"the wall\".format(num_bottles))"
   ]
  }
 ],
 "metadata": {
  "kernelspec": {
   "display_name": "Python 3",
   "language": "python",
   "name": "python3"
  },
  "language_info": {
   "codemirror_mode": {
    "name": "ipython",
    "version": 3
   },
   "file_extension": ".py",
   "mimetype": "text/x-python",
   "name": "python",
   "nbconvert_exporter": "python",
   "pygments_lexer": "ipython3",
   "version": "3.6.7"
  }
 },
 "nbformat": 4,
 "nbformat_minor": 2
}
